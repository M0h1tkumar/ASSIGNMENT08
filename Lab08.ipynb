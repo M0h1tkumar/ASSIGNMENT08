{
  "cells": [
    {
      "cell_type": "code",
      "execution_count": 5,
      "metadata": {
        "colab": {
          "base_uri": "https://localhost:8080/"
        },
        "id": "MADUeJ7NxpYg",
        "outputId": "755ce8a7-0def-4004-87f7-1ffc83ab11ee"
      },
      "outputs": [
        {
          "name": "stdout",
          "output_type": "stream",
          "text": [
            "Path to dataset files: /root/.cache/kagglehub/datasets/simranjain17/insurance/versions/1\n"
          ]
        }
      ],
      "source": [
        "import kagglehub\n",
        "\n",
        "# Download latest version\n",
        "path = kagglehub.dataset_download(\"simranjain17/insurance\")\n",
        "\n",
        "print(\"Path to dataset files:\", path)"
      ]
    },
    {
      "cell_type": "markdown",
      "metadata": {
        "id": "s3LRxRjfC-Lb"
      },
      "source": [
        "T**ask 1: Data Exploration and Preprocessing**\n",
        "1. Load the dataset and display the first few rows.\n",
        "2. Perform basic statistical analysis to understand the distribution of the\n",
        "     features.\n",
        "3. Check for missing values and handle them appropriately.\n",
        "4. Check for categorical features and convert them to numerical features.\n",
        "5. Perform feature engineering, including the creation of new features and scaling of numerical\n",
        "features.\n",
        "6. Split the data into training and testing sets.\n"
      ]
    },
    {
      "cell_type": "code",
      "execution_count": 6,
      "metadata": {
        "id": "_52P0eL2UaiP"
      },
      "outputs": [],
      "source": [
        "import pandas as pd\n",
        "import numpy as np\n",
        "from sklearn.model_selection import train_test_split\n",
        "from sklearn.preprocessing import StandardScaler\n",
        "from sklearn.linear_model import LinearRegression\n",
        "from sklearn.tree import DecisionTreeRegressor\n",
        "from sklearn.ensemble import RandomForestRegressor, GradientBoostingRegressor\n",
        "from sklearn.svm import SVR\n",
        "from sklearn.metrics import mean_absolute_error, mean_squared_error, r2_score, mean_absolute_percentage_error\n",
        "from sklearn.preprocessing import MinMaxScaler\n",
        "import math"
      ]
    },
    {
      "cell_type": "code",
      "execution_count": 7,
      "metadata": {
        "colab": {
          "base_uri": "https://localhost:8080/"
        },
        "id": "0Mj_dUgK0DvX",
        "outputId": "d158b1b4-5136-4085-c134-23b4aae3c569"
      },
      "outputs": [
        {
          "name": "stdout",
          "output_type": "stream",
          "text": [
            "age           int64\n",
            "sex          object\n",
            "bmi         float64\n",
            "children      int64\n",
            "smoker       object\n",
            "region       object\n",
            "charges     float64\n",
            "dtype: object\n",
            "               age          bmi     children       charges\n",
            "count  1338.000000  1338.000000  1338.000000   1338.000000\n",
            "mean     39.207025    30.663397     1.094918  13270.422265\n",
            "std      14.049960     6.098187     1.205493  12110.011237\n",
            "min      18.000000    15.960000     0.000000   1121.873900\n",
            "25%      27.000000    26.296250     0.000000   4740.287150\n",
            "50%      39.000000    30.400000     1.000000   9382.033000\n",
            "75%      51.000000    34.693750     2.000000  16639.912515\n",
            "max      64.000000    53.130000     5.000000  63770.428010\n",
            "sex\n",
            "male      676\n",
            "female    662\n",
            "Name: count, dtype: int64\n",
            "smoker\n",
            "no     1064\n",
            "yes     274\n",
            "Name: count, dtype: int64\n",
            "region\n",
            "southeast    364\n",
            "southwest    325\n",
            "northwest    325\n",
            "northeast    324\n",
            "Name: count, dtype: int64\n",
            "   age     bmi  children      charges  sex_male  smoker_yes  region_northwest  \\\n",
            "0   19  27.900         0  16884.92400     False        True             False   \n",
            "1   18  33.770         1   1725.55230      True       False             False   \n",
            "2   28  33.000         3   4449.46200      True       False             False   \n",
            "3   33  22.705         0  21984.47061      True       False              True   \n",
            "4   32  28.880         0   3866.85520      True       False              True   \n",
            "\n",
            "   region_southeast  region_southwest  \n",
            "0             False              True  \n",
            "1              True             False  \n",
            "2              True             False  \n",
            "3             False             False  \n",
            "4             False             False  \n",
            "        age       bmi  children      charges  sex_male  smoker_yes  \\\n",
            "0  0.021739  0.321227       0.0  16884.92400     False        True   \n",
            "1  0.000000  0.479150       0.2   1725.55230      True       False   \n",
            "2  0.217391  0.458434       0.6   4449.46200      True       False   \n",
            "3  0.326087  0.181464       0.0  21984.47061      True       False   \n",
            "4  0.304348  0.347592       0.0   3866.85520      True       False   \n",
            "\n",
            "   region_northwest  region_southeast  region_southwest   bmi_age  \\\n",
            "0             False             False              True  0.094918   \n",
            "1             False              True             False  0.125315   \n",
            "2             False              True             False  0.248894   \n",
            "3              True             False             False  0.180590   \n",
            "4              True             False             False  0.248956   \n",
            "\n",
            "   bmi_children  \n",
            "0      0.000000  \n",
            "1      0.144471  \n",
            "2      0.423529  \n",
            "3      0.000000  \n",
            "4      0.000000  \n",
            "X_train shape: (1070, 10)\n",
            "y_train shape: (1070,)\n",
            "X_test shape: (268, 10)\n",
            "y_test shape: (268,)\n"
          ]
        }
      ],
      "source": [
        "#task 1\n",
        "df = pd.read_csv (\"insurance.csv\")\n",
        "#few rows\n",
        "df.head()\n",
        "# prompt: Perform basic statistical analysis to understand the distribution of the features.\n",
        "\n",
        "# Check the data types of each column\n",
        "print(df.dtypes)\n",
        "\n",
        "# Generate descriptive statistics for numerical features\n",
        "print(df.describe())\n",
        "\n",
        "# Explore the distribution of categorical features\n",
        "for col in ['sex', 'smoker', 'region']:\n",
        "  print(df[col].value_counts())\n",
        "\n",
        "# Convert categorical features to numerical using one-hot encoding\n",
        "df = pd.get_dummies(df, columns=['sex', 'smoker', 'region'], drop_first=True)\n",
        "\n",
        "# Display the updated DataFrame with numerical features\n",
        "print(df.head())\n",
        "from sklearn.preprocessing import MinMaxScaler\n",
        "\n",
        "# Create interaction features\n",
        "df['bmi_age'] = df['bmi'] * df['age']\n",
        "df['bmi_children'] = df['bmi'] * df['children']\n",
        "# Identify numerical features for scaling\n",
        "numerical_features = ['age', 'bmi', 'children', 'bmi_age', 'bmi_children']\n",
        "\n",
        "# Scale numerical features using MinMaxScaler\n",
        "scaler = MinMaxScaler()\n",
        "df[numerical_features] = scaler.fit_transform(df[numerical_features])\n",
        "\n",
        "# Display the updated DataFrame with scaled numerical features\n",
        "print(df.head())\n",
        "\n",
        "# Define features (X) and target (y)\n",
        "X = df.drop('charges', axis=1)\n",
        "y = df['charges']\n",
        "\n",
        "# Split data into training and testing sets\n",
        "X_train, X_test, y_train, y_test = train_test_split(X, y, test_size=0.2, random_state=42)\n",
        "\n",
        "# Print the shapes of the resulting datasets\n",
        "print(\"X_train shape:\", X_train.shape)\n",
        "print(\"y_train shape:\", y_train.shape)\n",
        "print(\"X_test shape:\", X_test.shape)\n",
        "print(\"y_test shape:\", y_test.shape)"
      ]
    },
    {
      "cell_type": "markdown",
      "metadata": {
        "id": "iBBkJoj7DRUi"
      },
      "source": [
        "**Task 2: Implement Regression Models **\n",
        "1. Train the following regression models:\n",
        "o Linear Regression\n",
        "o Decision Tree Regression\n",
        "o Random Forest Regression\n",
        "o Gradient Boosting Regression\n",
        "o Support Vector Regression (SVR)\n",
        "2. For each model, train it using the training set and predict on the testing set.\n",
        "\n"
      ]
    },
    {
      "cell_type": "code",
      "execution_count": 8,
      "metadata": {
        "id": "_ZwuW_HhUIS3"
      },
      "outputs": [],
      "source": [
        "#task 2\n",
        "# Initialize and train the regression models\n",
        "models = {\n",
        "    \"Linear Regression\": LinearRegression(),\n",
        "    \"Decision Tree Regression\": DecisionTreeRegressor(),\n",
        "    \"Random Forest Regression\": RandomForestRegressor(),\n",
        "    \"Gradient Boosting Regression\": GradientBoostingRegressor(),\n",
        "    \"Support Vector Regression\": SVR()\n",
        "}\n",
        "\n",
        "for name, model in models.items():\n",
        "    model.fit(X_train, y_train)\n",
        "    y_pred = model.predict(X_test)\n"
      ]
    },
    {
      "cell_type": "markdown",
      "metadata": {
        "id": "X2dvYZKTDggR"
      },
      "source": [
        "**Task 3: Model Evaluation **\n",
        "1. Evaluate each model using the following metrics:\n",
        "o  Mean Absolute Error (MAE)\n",
        "o Mean Squared Error (MSE)\n",
        "o Root Mean Squared Error (RMSE)\n",
        "o Mean Absolute Percentage Error (MAPE)\n",
        "o R-squared (R2)\n",
        "2. Compare the performance of the models based on these metrics and find out which model performs the best."
      ]
    },
    {
      "cell_type": "code",
      "execution_count": 10,
      "metadata": {
        "colab": {
          "base_uri": "https://localhost:8080/"
        },
        "id": "vp-U6_A4y49G",
        "outputId": "86653635-128d-4bf7-8e79-ffb2b0db4057"
      },
      "outputs": [
        {
          "name": "stdout",
          "output_type": "stream",
          "text": [
            "Linear Regression:\n",
            "  Mean Absolute Error (MAE): 4190.528604001747\n",
            "  Mean Squared Error (MSE): 34158899.357042\n",
            "  Root Mean Squared Error (RMSE): 5844.561519655858\n",
            "  Mean Absolute Percentage Error (MAPE): 0.4704370573082475\n",
            "  R-squared (R2): 0.7799730855845862\n",
            "------------------------------\n",
            "Decision Tree Regression:\n",
            "  Mean Absolute Error (MAE): 2774.7215781492537\n",
            "  Mean Squared Error (MSE): 35996180.000064306\n",
            "  Root Mean Squared Error (RMSE): 5999.681658226902\n",
            "  Mean Absolute Percentage Error (MAPE): 0.35001263464595317\n",
            "  R-squared (R2): 0.7681386530235725\n",
            "------------------------------\n",
            "Random Forest Regression:\n",
            "  Mean Absolute Error (MAE): 2445.9837132044786\n",
            "  Mean Squared Error (MSE): 20574316.34074517\n",
            "  Root Mean Squared Error (RMSE): 4535.892011583297\n",
            "  Mean Absolute Percentage Error (MAPE): 0.3122081039490585\n",
            "  R-squared (R2): 0.8674751404211287\n",
            "------------------------------\n",
            "Gradient Boosting Regression:\n",
            "  Mean Absolute Error (MAE): 2417.1346923122715\n",
            "  Mean Squared Error (MSE): 18339154.035756383\n",
            "  Root Mean Squared Error (RMSE): 4282.423850549638\n",
            "  Mean Absolute Percentage Error (MAPE): 0.30652221331154117\n",
            "  R-squared (R2): 0.8818724387662507\n",
            "------------------------------\n",
            "Support Vector Regression:\n",
            "  Mean Absolute Error (MAE): 8612.566868842754\n",
            "  Mean Squared Error (MSE): 166066138.53500488\n",
            "  Root Mean Squared Error (RMSE): 12886.665144055109\n",
            "  Mean Absolute Percentage Error (MAPE): 1.131745062069065\n",
            "  R-squared (R2): -0.06967790937347917\n",
            "------------------------------\n",
            "The best performing model is: Gradient Boosting Regression with an R-squared score of 0.8818724387662507\n",
            "-M-M-M-M-M-M-M-M-M-M-M-M-M-M-M-M-M-M-M-M-M-M-M-M-M-M-M-M-M-M\n"
          ]
        }
      ],
      "source": [
        "#task 3\n",
        "results = {}\n",
        "\n",
        "for name, model in models.items():\n",
        "    model.fit(X_train, y_train)\n",
        "    y_pred = model.predict(X_test)\n",
        "\n",
        "    mae = mean_absolute_error(y_test, y_pred)\n",
        "    mse = mean_squared_error(y_test, y_pred)\n",
        "    rmse = np.sqrt(mse)\n",
        "    mape = mean_absolute_percentage_error(y_test, y_pred)\n",
        "    r2 = r2_score(y_test, y_pred)\n",
        "\n",
        "    results[name] = {'MAE': mae, 'MSE': mse, 'RMSE': rmse, 'MAPE': mape, 'R2': r2}\n",
        "\n",
        "    print(f\"{name}:\")\n",
        "    print(f\"  Mean Absolute Error (MAE): {mae}\")\n",
        "    print(f\"  Mean Squared Error (MSE): {mse}\")\n",
        "    print(f\"  Root Mean Squared Error (RMSE): {rmse}\")\n",
        "    print(f\"  Mean Absolute Percentage Error (MAPE): {mape}\")\n",
        "    print(f\"  R-squared (R2): {r2}\")\n",
        "    print(\"-\"*30)\n",
        "\n",
        "best_model = max(results, key=lambda k: results[k]['R2'])\n",
        "print(f\"The best performing model is: {best_model} with an R-squared score of {results[best_model]['R2']}\")\n",
        "print(\"-M\" * 30)"
      ]
    },
    {
      "cell_type": "markdown",
      "metadata": {
        "id": "EAWIaEdQEoRL"
      },
      "source": []
    },
    {
      "cell_type": "code",
      "execution_count": null,
      "metadata": {
        "id": "J1zg5WHlk0j8"
      },
      "outputs": [],
      "source": []
    }
  ],
  "metadata": {
    "colab": {
      "provenance": []
    },
    "kernelspec": {
      "display_name": "Python 3",
      "name": "python3"
    },
    "language_info": {
      "name": "python"
    }
  },
  "nbformat": 4,
  "nbformat_minor": 0
}
